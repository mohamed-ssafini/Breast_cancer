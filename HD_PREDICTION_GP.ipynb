{
  "nbformat": 4,
  "nbformat_minor": 0,
  "metadata": {
    "colab": {
      "name": "HD-PREDICTION-GP.ipynb",
      "provenance": [],
      "collapsed_sections": [],
      "include_colab_link": true
    },
    "kernelspec": {
      "name": "python3",
      "display_name": "Python 3"
    }
  },
  "cells": [
    {
      "cell_type": "markdown",
      "metadata": {
        "id": "view-in-github",
        "colab_type": "text"
      },
      "source": [
        "<a href=\"https://colab.research.google.com/github/mohamedssafini/Breast_cancer/blob/main/HD_PREDICTION_GP.ipynb\" target=\"_parent\"><img src=\"https://colab.research.google.com/assets/colab-badge.svg\" alt=\"Open In Colab\"/></a>"
      ]
    },
    {
      "cell_type": "markdown",
      "metadata": {
        "id": "czMEC9NfSuxy"
      },
      "source": [
        "# **PREDICTING HEART DISEASE FROM CLINICAL AND LABORATORIAL DATA USING KNN**"
      ]
    },
    {
      "cell_type": "markdown",
      "metadata": {
        "id": "FtMBecknGOmd"
      },
      "source": [
        "## **INTRODUCTION**"
      ]
    },
    {
      "cell_type": "markdown",
      "metadata": {
        "id": "uwkYjqMeOLd6"
      },
      "source": [
        "Importations:"
      ]
    },
    {
      "cell_type": "code",
      "metadata": {
        "id": "jjCgyWzrNYy1"
      },
      "source": [
        "import pandas as pd\n",
        "import numpy as np\n",
        "import matplotlib.pyplot as plt\n",
        "import seaborn as sns\n",
        "from sklearn.model_selection import train_test_split\n",
        "from sklearn.preprocessing import StandardScaler\n",
        "from sklearn.neighbors import KNeighborsClassifier\n",
        "from sklearn.model_selection import GridSearchCV\n",
        "from sklearn import metrics\n",
        "%matplotlib inline"
      ],
      "execution_count": 1,
      "outputs": []
    },
    {
      "cell_type": "markdown",
      "metadata": {
        "id": "VhBGX_r0OQB3"
      },
      "source": [
        "Loading the dataset:"
      ]
    },
    {
      "cell_type": "code",
      "metadata": {
        "id": "seZytjvgOWvg",
        "colab": {
          "base_uri": "https://localhost:8080/",
          "height": 204
        },
        "outputId": "90df31e2-97f0-4a8f-a8d2-fcf62c9d6dbd"
      },
      "source": [
        "data = pd.read_csv('heart.csv')\n",
        "data.head()\n"
      ],
      "execution_count": 2,
      "outputs": [
        {
          "output_type": "execute_result",
          "data": {
            "text/html": [
              "<div>\n",
              "<style scoped>\n",
              "    .dataframe tbody tr th:only-of-type {\n",
              "        vertical-align: middle;\n",
              "    }\n",
              "\n",
              "    .dataframe tbody tr th {\n",
              "        vertical-align: top;\n",
              "    }\n",
              "\n",
              "    .dataframe thead th {\n",
              "        text-align: right;\n",
              "    }\n",
              "</style>\n",
              "<table border=\"1\" class=\"dataframe\">\n",
              "  <thead>\n",
              "    <tr style=\"text-align: right;\">\n",
              "      <th></th>\n",
              "      <th>age</th>\n",
              "      <th>sex</th>\n",
              "      <th>cp</th>\n",
              "      <th>trestbps</th>\n",
              "      <th>chol</th>\n",
              "      <th>fbs</th>\n",
              "      <th>restecg</th>\n",
              "      <th>thalach</th>\n",
              "      <th>exang</th>\n",
              "      <th>oldpeak</th>\n",
              "      <th>slope</th>\n",
              "      <th>ca</th>\n",
              "      <th>thal</th>\n",
              "      <th>target</th>\n",
              "    </tr>\n",
              "  </thead>\n",
              "  <tbody>\n",
              "    <tr>\n",
              "      <th>0</th>\n",
              "      <td>63</td>\n",
              "      <td>1</td>\n",
              "      <td>3</td>\n",
              "      <td>145</td>\n",
              "      <td>233</td>\n",
              "      <td>1</td>\n",
              "      <td>0</td>\n",
              "      <td>150</td>\n",
              "      <td>0</td>\n",
              "      <td>2.3</td>\n",
              "      <td>0</td>\n",
              "      <td>0</td>\n",
              "      <td>1</td>\n",
              "      <td>1</td>\n",
              "    </tr>\n",
              "    <tr>\n",
              "      <th>1</th>\n",
              "      <td>37</td>\n",
              "      <td>1</td>\n",
              "      <td>2</td>\n",
              "      <td>130</td>\n",
              "      <td>250</td>\n",
              "      <td>0</td>\n",
              "      <td>1</td>\n",
              "      <td>187</td>\n",
              "      <td>0</td>\n",
              "      <td>3.5</td>\n",
              "      <td>0</td>\n",
              "      <td>0</td>\n",
              "      <td>2</td>\n",
              "      <td>1</td>\n",
              "    </tr>\n",
              "    <tr>\n",
              "      <th>2</th>\n",
              "      <td>41</td>\n",
              "      <td>0</td>\n",
              "      <td>1</td>\n",
              "      <td>130</td>\n",
              "      <td>204</td>\n",
              "      <td>0</td>\n",
              "      <td>0</td>\n",
              "      <td>172</td>\n",
              "      <td>0</td>\n",
              "      <td>1.4</td>\n",
              "      <td>2</td>\n",
              "      <td>0</td>\n",
              "      <td>2</td>\n",
              "      <td>1</td>\n",
              "    </tr>\n",
              "    <tr>\n",
              "      <th>3</th>\n",
              "      <td>56</td>\n",
              "      <td>1</td>\n",
              "      <td>1</td>\n",
              "      <td>120</td>\n",
              "      <td>236</td>\n",
              "      <td>0</td>\n",
              "      <td>1</td>\n",
              "      <td>178</td>\n",
              "      <td>0</td>\n",
              "      <td>0.8</td>\n",
              "      <td>2</td>\n",
              "      <td>0</td>\n",
              "      <td>2</td>\n",
              "      <td>1</td>\n",
              "    </tr>\n",
              "    <tr>\n",
              "      <th>4</th>\n",
              "      <td>57</td>\n",
              "      <td>0</td>\n",
              "      <td>0</td>\n",
              "      <td>120</td>\n",
              "      <td>354</td>\n",
              "      <td>0</td>\n",
              "      <td>1</td>\n",
              "      <td>163</td>\n",
              "      <td>1</td>\n",
              "      <td>0.6</td>\n",
              "      <td>2</td>\n",
              "      <td>0</td>\n",
              "      <td>2</td>\n",
              "      <td>1</td>\n",
              "    </tr>\n",
              "  </tbody>\n",
              "</table>\n",
              "</div>"
            ],
            "text/plain": [
              "   age  sex  cp  trestbps  chol  fbs  ...  exang  oldpeak  slope  ca  thal  target\n",
              "0   63    1   3       145   233    1  ...      0      2.3      0   0     1       1\n",
              "1   37    1   2       130   250    0  ...      0      3.5      0   0     2       1\n",
              "2   41    0   1       130   204    0  ...      0      1.4      2   0     2       1\n",
              "3   56    1   1       120   236    0  ...      0      0.8      2   0     2       1\n",
              "4   57    0   0       120   354    0  ...      1      0.6      2   0     2       1\n",
              "\n",
              "[5 rows x 14 columns]"
            ]
          },
          "metadata": {},
          "execution_count": 2
        }
      ]
    },
    {
      "cell_type": "markdown",
      "metadata": {
        "id": "LhgGZw1AGzfT"
      },
      "source": [
        "Shape:"
      ]
    },
    {
      "cell_type": "code",
      "metadata": {
        "id": "KmU2syYKFk1y",
        "colab": {
          "base_uri": "https://localhost:8080/"
        },
        "outputId": "364d72c2-1c5e-482d-e84d-5a95ad79f77c"
      },
      "source": [
        "data.shape"
      ],
      "execution_count": 3,
      "outputs": [
        {
          "output_type": "execute_result",
          "data": {
            "text/plain": [
              "(303, 14)"
            ]
          },
          "metadata": {},
          "execution_count": 3
        }
      ]
    },
    {
      "cell_type": "markdown",
      "metadata": {
        "id": "nk2PuKGZG5Tw"
      },
      "source": [
        "Variables types:"
      ]
    },
    {
      "cell_type": "code",
      "metadata": {
        "id": "LoGRmPgCO0g6",
        "colab": {
          "base_uri": "https://localhost:8080/"
        },
        "outputId": "a1a3ba65-e138-4fcb-b7f3-af7e9314f0cd"
      },
      "source": [
        "data.dtypes"
      ],
      "execution_count": 5,
      "outputs": [
        {
          "output_type": "execute_result",
          "data": {
            "text/plain": [
              "age           int64\n",
              "sex           int64\n",
              "cp            int64\n",
              "trestbps      int64\n",
              "chol          int64\n",
              "fbs           int64\n",
              "restecg       int64\n",
              "thalach       int64\n",
              "exang         int64\n",
              "oldpeak     float64\n",
              "slope         int64\n",
              "ca            int64\n",
              "thal          int64\n",
              "target        int64\n",
              "dtype: object"
            ]
          },
          "metadata": {},
          "execution_count": 5
        }
      ]
    },
    {
      "cell_type": "markdown",
      "metadata": {
        "id": "C6c5r148PNFI"
      },
      "source": [
        "## **EDA AND PRE-PROCESSING**\n",
        "\n",
        "\n"
      ]
    },
    {
      "cell_type": "markdown",
      "metadata": {
        "id": "j_64CUspH51k"
      },
      "source": [
        "### Outcome variable count:"
      ]
    },
    {
      "cell_type": "code",
      "metadata": {
        "id": "sfAcAqE_HTHR"
      },
      "source": [
        ""
      ],
      "execution_count": null,
      "outputs": []
    },
    {
      "cell_type": "markdown",
      "metadata": {
        "id": "ShrdgxYRILA9"
      },
      "source": [
        "### Categorical predictive variables:"
      ]
    },
    {
      "cell_type": "markdown",
      "metadata": {
        "id": "X79rW6MIIUP9"
      },
      "source": [
        "sex:"
      ]
    },
    {
      "cell_type": "code",
      "metadata": {
        "id": "EwKpfDA_ImU5"
      },
      "source": [
        ""
      ],
      "execution_count": null,
      "outputs": []
    },
    {
      "cell_type": "markdown",
      "metadata": {
        "id": "wDdW_oEOqQnl"
      },
      "source": [
        "cp:"
      ]
    },
    {
      "cell_type": "code",
      "metadata": {
        "id": "_-eHu_RiKBeM"
      },
      "source": [
        ""
      ],
      "execution_count": null,
      "outputs": []
    },
    {
      "cell_type": "markdown",
      "metadata": {
        "id": "ovg-G0_BrN4-"
      },
      "source": [
        "fbs:"
      ]
    },
    {
      "cell_type": "code",
      "metadata": {
        "id": "K5LAP6SUK7bx"
      },
      "source": [
        ""
      ],
      "execution_count": null,
      "outputs": []
    },
    {
      "cell_type": "markdown",
      "metadata": {
        "id": "gKNHGfkArUlu"
      },
      "source": [
        "restecg:"
      ]
    },
    {
      "cell_type": "code",
      "metadata": {
        "id": "yb4yl_7MLJln"
      },
      "source": [
        ""
      ],
      "execution_count": null,
      "outputs": []
    },
    {
      "cell_type": "markdown",
      "metadata": {
        "id": "c6Dy05CPrXZt"
      },
      "source": [
        "exang:"
      ]
    },
    {
      "cell_type": "code",
      "metadata": {
        "id": "D7r-qjKML6Ow"
      },
      "source": [
        ""
      ],
      "execution_count": null,
      "outputs": []
    },
    {
      "cell_type": "markdown",
      "metadata": {
        "id": "gMDNzp1ArbQT"
      },
      "source": [
        "slope:"
      ]
    },
    {
      "cell_type": "code",
      "metadata": {
        "id": "1AIm2KUaMASO"
      },
      "source": [
        ""
      ],
      "execution_count": null,
      "outputs": []
    },
    {
      "cell_type": "markdown",
      "metadata": {
        "id": "2B2QMZLurfN6"
      },
      "source": [
        "ca:"
      ]
    },
    {
      "cell_type": "code",
      "metadata": {
        "id": "a00BHvtbMhm2"
      },
      "source": [
        ""
      ],
      "execution_count": null,
      "outputs": []
    },
    {
      "cell_type": "markdown",
      "metadata": {
        "id": "9kQU7xA-rlNN"
      },
      "source": [
        "thal:"
      ]
    },
    {
      "cell_type": "code",
      "metadata": {
        "id": "XZnp7VBzM0qv"
      },
      "source": [
        ""
      ],
      "execution_count": null,
      "outputs": []
    },
    {
      "cell_type": "markdown",
      "metadata": {
        "id": "llO7BS8pM_Xh"
      },
      "source": [
        "### Distributional predictive variables:\n",
        "\n",
        "\n"
      ]
    },
    {
      "cell_type": "code",
      "metadata": {
        "id": "F9Wm8CBGOe9P"
      },
      "source": [
        "data[['age', 'trestbps', 'chol', 'thalach', 'oldpeak']]"
      ],
      "execution_count": null,
      "outputs": []
    },
    {
      "cell_type": "code",
      "metadata": {
        "id": "SrTyRET3ToAN"
      },
      "source": [
        ""
      ],
      "execution_count": null,
      "outputs": []
    },
    {
      "cell_type": "code",
      "metadata": {
        "id": "B-TEMbYUO5RA"
      },
      "source": [
        ""
      ],
      "execution_count": null,
      "outputs": []
    },
    {
      "cell_type": "code",
      "metadata": {
        "id": "5q9pzVLTQhKh"
      },
      "source": [
        ""
      ],
      "execution_count": null,
      "outputs": []
    },
    {
      "cell_type": "code",
      "metadata": {
        "id": "M2SwCb04QsND"
      },
      "source": [
        ""
      ],
      "execution_count": null,
      "outputs": []
    },
    {
      "cell_type": "code",
      "metadata": {
        "id": "65CZvnWdRRPi"
      },
      "source": [
        ""
      ],
      "execution_count": null,
      "outputs": []
    },
    {
      "cell_type": "markdown",
      "metadata": {
        "id": "ssRTg0DGRcqo"
      },
      "source": [
        "## **SPLITTING AND PRE-PROCESSING:**"
      ]
    },
    {
      "cell_type": "markdown",
      "metadata": {
        "id": "BPCxzv6Cp56_"
      },
      "source": [
        "Defining x_train, x_test, y_train and y_test:"
      ]
    },
    {
      "cell_type": "code",
      "metadata": {
        "id": "lTcZnUktTDWR"
      },
      "source": [
        "x = \n",
        "y = \n",
        "x_train, x_test, y_train, y_test ="
      ],
      "execution_count": null,
      "outputs": []
    },
    {
      "cell_type": "markdown",
      "metadata": {
        "id": "ENxqQf43qCJS"
      },
      "source": [
        "Scaling the data:"
      ]
    },
    {
      "cell_type": "code",
      "metadata": {
        "id": "ilOoDJJ5SlxT"
      },
      "source": [
        "sc = \n",
        "x_train = \n",
        "x_test = "
      ],
      "execution_count": null,
      "outputs": []
    },
    {
      "cell_type": "markdown",
      "metadata": {
        "id": "cghXDXKdnqRw"
      },
      "source": [
        "## **TRAINING THE MODEL:**"
      ]
    },
    {
      "cell_type": "markdown",
      "metadata": {
        "id": "G3iVIru4oGGV"
      },
      "source": [
        "Parameters for grid search:"
      ]
    },
    {
      "cell_type": "code",
      "metadata": {
        "id": "qgmdxuHgSwU5"
      },
      "source": [
        "knn = \n",
        "parameters = {'n_neighbors': [], 'weights': []}"
      ],
      "execution_count": null,
      "outputs": []
    },
    {
      "cell_type": "markdown",
      "metadata": {
        "id": "M0h8pdqGoKAe"
      },
      "source": [
        "Fiting training data and grid searching:"
      ]
    },
    {
      "cell_type": "code",
      "metadata": {
        "id": "8ZmzaaIfVWt9"
      },
      "source": [
        "grid = GridSearchCV()\n",
        "\n"
      ],
      "execution_count": null,
      "outputs": []
    },
    {
      "cell_type": "markdown",
      "metadata": {
        "id": "2t894auSop-o"
      },
      "source": [
        "Displayng best parameters:"
      ]
    },
    {
      "cell_type": "code",
      "metadata": {
        "id": "9mBTc_stW8rU"
      },
      "source": [
        ""
      ],
      "execution_count": null,
      "outputs": []
    },
    {
      "cell_type": "markdown",
      "metadata": {
        "id": "GKUsyoBPos4s"
      },
      "source": [
        "Picking the best model:"
      ]
    },
    {
      "cell_type": "code",
      "metadata": {
        "id": "QqrYNCqEn-zW"
      },
      "source": [
        ""
      ],
      "execution_count": null,
      "outputs": []
    },
    {
      "cell_type": "markdown",
      "metadata": {
        "id": "cn62oN6AoUDR"
      },
      "source": [
        "## **EVALUATING THE MODEL:**"
      ]
    },
    {
      "cell_type": "markdown",
      "metadata": {
        "id": "S8hx4t6Towzw"
      },
      "source": [
        "Model score on test data:"
      ]
    },
    {
      "cell_type": "code",
      "metadata": {
        "id": "-cNXhzHfXA4a"
      },
      "source": [
        ""
      ],
      "execution_count": null,
      "outputs": []
    },
    {
      "cell_type": "markdown",
      "metadata": {
        "id": "OCRtE-yBo44k"
      },
      "source": [
        "Confusion matrix:"
      ]
    },
    {
      "cell_type": "code",
      "metadata": {
        "id": "o4IBWo2NaUbJ"
      },
      "source": [
        "predictions = \n",
        "cm = \n",
        "cm = \n",
        "sns.heatmap(cm, annot=True)\n",
        "plt.show()"
      ],
      "execution_count": null,
      "outputs": []
    },
    {
      "cell_type": "markdown",
      "metadata": {
        "id": "ptduARW6pW_B"
      },
      "source": [
        "Calculating sensitivity, specificity, PPV and NPV:"
      ]
    },
    {
      "cell_type": "code",
      "metadata": {
        "id": "UOOarOZcZfbC"
      },
      "source": [
        "TP = \n",
        "FP = \n",
        "TN = \n",
        "FN = \n",
        "sensitivity = \n",
        "specificity = \n",
        "ppv = \n",
        "npv = \n"
      ],
      "execution_count": null,
      "outputs": []
    },
    {
      "cell_type": "markdown",
      "metadata": {
        "id": "Xl9jGe4Npdzw"
      },
      "source": [
        "Printing sensitivity, specificity, PPV and NPV:"
      ]
    },
    {
      "cell_type": "code",
      "metadata": {
        "id": "XkFWdr2abB6N"
      },
      "source": [
        "print('Sensitivity:', sensitivity,'% ','Specificity:', specificity,'% ','positive predictive value:',ppv,'% ','negative predictive value:',npv,'%' )"
      ],
      "execution_count": null,
      "outputs": []
    },
    {
      "cell_type": "markdown",
      "metadata": {
        "id": "BTZI1JOBpjK8"
      },
      "source": [
        "AUC score:"
      ]
    },
    {
      "cell_type": "code",
      "metadata": {
        "id": "zmArXtPTjm3x"
      },
      "source": [
        "probs = model\n",
        "auc = \n",
        "print(auc)"
      ],
      "execution_count": null,
      "outputs": []
    },
    {
      "cell_type": "markdown",
      "metadata": {
        "id": "-juA2B_-poHk"
      },
      "source": [
        "ROC curve:"
      ]
    },
    {
      "cell_type": "code",
      "metadata": {
        "id": "Vz9c_zVfmFyQ"
      },
      "source": [
        "fpr, tpr, _ = \n",
        "plt.figure()\n",
        "plt.grid()\n",
        "plt.plot()\n",
        "plt.plot([0, 1], [0, 1])\n",
        "plt.show()"
      ],
      "execution_count": null,
      "outputs": []
    },
    {
      "cell_type": "code",
      "metadata": {
        "id": "9GRieWbMm42y"
      },
      "source": [
        ""
      ],
      "execution_count": null,
      "outputs": []
    }
  ]
}