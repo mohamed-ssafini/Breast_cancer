{
  "nbformat": 4,
  "nbformat_minor": 0,
  "metadata": {
    "colab": {
      "name": "TF2.0 Linear Classification.ipynb",
      "provenance": [],
      "collapsed_sections": [],
      "toc_visible": true,
      "include_colab_link": true
    },
    "kernelspec": {
      "name": "python3",
      "display_name": "Python 3"
    },
    "accelerator": "GPU"
  },
  "cells": [
    {
      "cell_type": "markdown",
      "metadata": {
        "id": "view-in-github",
        "colab_type": "text"
      },
      "source": [
        "<a href=\"https://colab.research.google.com/github/mohamedssafini/Breast_cancer/blob/main/TF2_0_Linear_Classification.ipynb\" target=\"_parent\"><img src=\"https://colab.research.google.com/assets/colab-badge.svg\" alt=\"Open In Colab\"/></a>"
      ]
    },
    {
      "cell_type": "code",
      "metadata": {
        "id": "J69CUStf7KOG"
      },
      "source": [
        "import tensorflow as tf"
      ],
      "execution_count": 13,
      "outputs": []
    },
    {
      "cell_type": "code",
      "metadata": {
        "id": "EtMPQxpC4xD0"
      },
      "source": [
        "# Load in the data\n",
        "from sklearn.datasets import load_breast_cancer"
      ],
      "execution_count": 1,
      "outputs": []
    },
    {
      "cell_type": "code",
      "metadata": {
        "id": "pwJ9LvEE5B_z"
      },
      "source": [
        "# load the data\n",
        "data = load_breast_cancer()"
      ],
      "execution_count": 2,
      "outputs": []
    },
    {
      "cell_type": "code",
      "metadata": {
        "id": "wNkavJSj5EcV",
        "colab": {
          "base_uri": "https://localhost:8080/"
        },
        "outputId": "b4872955-d091-4ef9-f38a-28043eafab28"
      },
      "source": [
        "# check the type of 'data'\n",
        "type(data)"
      ],
      "execution_count": 3,
      "outputs": [
        {
          "output_type": "execute_result",
          "data": {
            "text/plain": [
              "sklearn.utils.Bunch"
            ]
          },
          "metadata": {
            "tags": []
          },
          "execution_count": 3
        }
      ]
    },
    {
      "cell_type": "code",
      "metadata": {
        "id": "OsWYmnYR5GQq",
        "colab": {
          "base_uri": "https://localhost:8080/"
        },
        "outputId": "f25ee4b3-91a2-4b1c-a98b-08071393c746"
      },
      "source": [
        "# note: it is a Bunch object\n",
        "# this basically acts like a dictionary where you can treat the keys like attributes\n",
        "data.keys()"
      ],
      "execution_count": 4,
      "outputs": [
        {
          "output_type": "execute_result",
          "data": {
            "text/plain": [
              "dict_keys(['data', 'target', 'target_names', 'DESCR', 'feature_names', 'filename'])"
            ]
          },
          "metadata": {
            "tags": []
          },
          "execution_count": 4
        }
      ]
    },
    {
      "cell_type": "code",
      "metadata": {
        "id": "HRYJw4hN5JXD",
        "colab": {
          "base_uri": "https://localhost:8080/"
        },
        "outputId": "f7bbd13b-0cf0-4e8b-cd09-fbd8eb557895"
      },
      "source": [
        "# 'data' (the attribute) means the input data\n",
        "data.data.shape\n",
        "# it has 569 samples, 30 features"
      ],
      "execution_count": 5,
      "outputs": [
        {
          "output_type": "execute_result",
          "data": {
            "text/plain": [
              "(569, 30)"
            ]
          },
          "metadata": {
            "tags": []
          },
          "execution_count": 5
        }
      ]
    },
    {
      "cell_type": "code",
      "metadata": {
        "id": "G5OVVVge5L-h",
        "colab": {
          "base_uri": "https://localhost:8080/"
        },
        "outputId": "ac37e479-0d9b-440b-ede6-17f23b601819"
      },
      "source": [
        "# 'targets'\n",
        "data.target\n",
        "# note how the targets are just 0s and 1s\n",
        "# normally, when you have K targets, they are labeled 0..K-1"
      ],
      "execution_count": 6,
      "outputs": [
        {
          "output_type": "execute_result",
          "data": {
            "text/plain": [
              "array([0, 0, 0, 0, 0, 0, 0, 0, 0, 0, 0, 0, 0, 0, 0, 0, 0, 0, 0, 1, 1, 1,\n",
              "       0, 0, 0, 0, 0, 0, 0, 0, 0, 0, 0, 0, 0, 0, 0, 1, 0, 0, 0, 0, 0, 0,\n",
              "       0, 0, 1, 0, 1, 1, 1, 1, 1, 0, 0, 1, 0, 0, 1, 1, 1, 1, 0, 1, 0, 0,\n",
              "       1, 1, 1, 1, 0, 1, 0, 0, 1, 0, 1, 0, 0, 1, 1, 1, 0, 0, 1, 0, 0, 0,\n",
              "       1, 1, 1, 0, 1, 1, 0, 0, 1, 1, 1, 0, 0, 1, 1, 1, 1, 0, 1, 1, 0, 1,\n",
              "       1, 1, 1, 1, 1, 1, 1, 0, 0, 0, 1, 0, 0, 1, 1, 1, 0, 0, 1, 0, 1, 0,\n",
              "       0, 1, 0, 0, 1, 1, 0, 1, 1, 0, 1, 1, 1, 1, 0, 1, 1, 1, 1, 1, 1, 1,\n",
              "       1, 1, 0, 1, 1, 1, 1, 0, 0, 1, 0, 1, 1, 0, 0, 1, 1, 0, 0, 1, 1, 1,\n",
              "       1, 0, 1, 1, 0, 0, 0, 1, 0, 1, 0, 1, 1, 1, 0, 1, 1, 0, 0, 1, 0, 0,\n",
              "       0, 0, 1, 0, 0, 0, 1, 0, 1, 0, 1, 1, 0, 1, 0, 0, 0, 0, 1, 1, 0, 0,\n",
              "       1, 1, 1, 0, 1, 1, 1, 1, 1, 0, 0, 1, 1, 0, 1, 1, 0, 0, 1, 0, 1, 1,\n",
              "       1, 1, 0, 1, 1, 1, 1, 1, 0, 1, 0, 0, 0, 0, 0, 0, 0, 0, 0, 0, 0, 0,\n",
              "       0, 0, 1, 1, 1, 1, 1, 1, 0, 1, 0, 1, 1, 0, 1, 1, 0, 1, 0, 0, 1, 1,\n",
              "       1, 1, 1, 1, 1, 1, 1, 1, 1, 1, 1, 0, 1, 1, 0, 1, 0, 1, 1, 1, 1, 1,\n",
              "       1, 1, 1, 1, 1, 1, 1, 1, 1, 0, 1, 1, 1, 0, 1, 0, 1, 1, 1, 1, 0, 0,\n",
              "       0, 1, 1, 1, 1, 0, 1, 0, 1, 0, 1, 1, 1, 0, 1, 1, 1, 1, 1, 1, 1, 0,\n",
              "       0, 0, 1, 1, 1, 1, 1, 1, 1, 1, 1, 1, 1, 0, 0, 1, 0, 0, 0, 1, 0, 0,\n",
              "       1, 1, 1, 1, 1, 0, 1, 1, 1, 1, 1, 0, 1, 1, 1, 0, 1, 1, 0, 0, 1, 1,\n",
              "       1, 1, 1, 1, 0, 1, 1, 1, 1, 1, 1, 1, 0, 1, 1, 1, 1, 1, 0, 1, 1, 0,\n",
              "       1, 1, 1, 1, 1, 1, 1, 1, 1, 1, 1, 1, 0, 1, 0, 0, 1, 0, 1, 1, 1, 1,\n",
              "       1, 0, 1, 1, 0, 1, 0, 1, 1, 0, 1, 0, 1, 1, 1, 1, 1, 1, 1, 1, 0, 0,\n",
              "       1, 1, 1, 1, 1, 1, 0, 1, 1, 1, 1, 1, 1, 1, 1, 1, 1, 0, 1, 1, 1, 1,\n",
              "       1, 1, 1, 0, 1, 0, 1, 1, 0, 1, 1, 1, 1, 1, 0, 0, 1, 0, 1, 0, 1, 1,\n",
              "       1, 1, 1, 0, 1, 1, 0, 1, 0, 1, 0, 0, 1, 1, 1, 0, 1, 1, 1, 1, 1, 1,\n",
              "       1, 1, 1, 1, 1, 0, 1, 0, 0, 1, 1, 1, 1, 1, 1, 1, 1, 1, 1, 1, 1, 1,\n",
              "       1, 1, 1, 1, 1, 1, 1, 1, 1, 1, 1, 1, 0, 0, 0, 0, 0, 0, 1])"
            ]
          },
          "metadata": {
            "tags": []
          },
          "execution_count": 6
        }
      ]
    },
    {
      "cell_type": "code",
      "metadata": {
        "id": "YFXPFIiB5Osq",
        "colab": {
          "base_uri": "https://localhost:8080/"
        },
        "outputId": "81fd31e6-f729-4df9-d998-5e4b9d7aec52"
      },
      "source": [
        "# their meaning is not lost\n",
        "data.target_names"
      ],
      "execution_count": 7,
      "outputs": [
        {
          "output_type": "execute_result",
          "data": {
            "text/plain": [
              "array(['malignant', 'benign'], dtype='<U9')"
            ]
          },
          "metadata": {
            "tags": []
          },
          "execution_count": 7
        }
      ]
    },
    {
      "cell_type": "code",
      "metadata": {
        "id": "hujO3u7j5Qm-",
        "colab": {
          "base_uri": "https://localhost:8080/"
        },
        "outputId": "f71346eb-9383-4c40-8009-9ffb87a7f19d"
      },
      "source": [
        "# there are also 569 corresponding targets\n",
        "data.target.shape"
      ],
      "execution_count": 8,
      "outputs": [
        {
          "output_type": "execute_result",
          "data": {
            "text/plain": [
              "(569,)"
            ]
          },
          "metadata": {
            "tags": []
          },
          "execution_count": 8
        }
      ]
    },
    {
      "cell_type": "code",
      "metadata": {
        "id": "q3o3h2l95SJ0",
        "colab": {
          "base_uri": "https://localhost:8080/"
        },
        "outputId": "28059ddd-4c71-4118-a219-9b4a7b0c65c9"
      },
      "source": [
        "# you can also determine the meaning of each feature\n",
        "data.feature_names"
      ],
      "execution_count": 9,
      "outputs": [
        {
          "output_type": "execute_result",
          "data": {
            "text/plain": [
              "array(['mean radius', 'mean texture', 'mean perimeter', 'mean area',\n",
              "       'mean smoothness', 'mean compactness', 'mean concavity',\n",
              "       'mean concave points', 'mean symmetry', 'mean fractal dimension',\n",
              "       'radius error', 'texture error', 'perimeter error', 'area error',\n",
              "       'smoothness error', 'compactness error', 'concavity error',\n",
              "       'concave points error', 'symmetry error',\n",
              "       'fractal dimension error', 'worst radius', 'worst texture',\n",
              "       'worst perimeter', 'worst area', 'worst smoothness',\n",
              "       'worst compactness', 'worst concavity', 'worst concave points',\n",
              "       'worst symmetry', 'worst fractal dimension'], dtype='<U23')"
            ]
          },
          "metadata": {
            "tags": []
          },
          "execution_count": 9
        }
      ]
    },
    {
      "cell_type": "code",
      "metadata": {
        "id": "__iUSucB5Tug"
      },
      "source": [
        "# normally we would put all of our imports at the top\n",
        "# but this lets us tell a story\n",
        "from sklearn.model_selection import train_test_split\n",
        "\n",
        "\n",
        "# split the data into train and test sets\n",
        "# this lets us simulate how our model will perform in the future\n",
        "X_train, X_test, y_train, y_test = train_test_split(data.data, data.target, test_size=0.33)\n",
        "N, D = X_train.shape"
      ],
      "execution_count": 10,
      "outputs": []
    },
    {
      "cell_type": "code",
      "metadata": {
        "id": "fS7cFmYl73H3"
      },
      "source": [
        "# Scale the data\n",
        "# you'll learn why scaling is needed in a later course\n",
        "from sklearn.preprocessing import StandardScaler\n",
        "\n",
        "scaler = StandardScaler()\n",
        "X_train = scaler.fit_transform(X_train)\n",
        "X_test = scaler.transform(X_test)"
      ],
      "execution_count": 11,
      "outputs": []
    },
    {
      "cell_type": "code",
      "metadata": {
        "id": "y-llhgXY5bmX",
        "colab": {
          "base_uri": "https://localhost:8080/"
        },
        "outputId": "18ad8be1-af70-46d5-c11f-408e3594b9aa"
      },
      "source": [
        "# Now all the fun Tensorflow stuff\n",
        "# Build the model\n",
        "\n",
        "model = tf.keras.models.Sequential([\n",
        "  tf.keras.layers.Input(shape=(D,)),\n",
        "  tf.keras.layers.Dense(1, activation='sigmoid')\n",
        "])\n",
        "\n",
        "# Alternatively, you can do:\n",
        "# model = tf.keras.models.Sequential()\n",
        "# model.add(tf.keras.layers.Dense(1, input_shape=(D,), activation='sigmoid'))\n",
        "\n",
        "model.compile(optimizer='adam',\n",
        "              loss='binary_crossentropy',\n",
        "              metrics=['accuracy'])\n",
        "\n",
        "\n",
        "# Train the model\n",
        "r = model.fit(X_train, y_train, validation_data=(X_test, y_test), epochs=100)\n",
        "\n",
        "\n",
        "# Evaluate the model - evaluate() returns loss and accuracy\n",
        "print(\"Train score:\", model.evaluate(X_train, y_train))\n",
        "print(\"Test score:\", model.evaluate(X_test, y_test))"
      ],
      "execution_count": 14,
      "outputs": [
        {
          "output_type": "stream",
          "text": [
            "WARNING:tensorflow:Please add `keras.layers.InputLayer` instead of `keras.Input` to Sequential model. `keras.Input` is intended to be used by Functional model.\n",
            "Epoch 1/100\n",
            "12/12 [==============================] - 3s 16ms/step - loss: 0.3509 - accuracy: 0.9423 - val_loss: 0.3620 - val_accuracy: 0.9255\n",
            "Epoch 2/100\n",
            "12/12 [==============================] - 0s 4ms/step - loss: 0.3185 - accuracy: 0.9501 - val_loss: 0.3320 - val_accuracy: 0.9362\n",
            "Epoch 3/100\n",
            "12/12 [==============================] - 0s 6ms/step - loss: 0.2925 - accuracy: 0.9685 - val_loss: 0.3067 - val_accuracy: 0.9362\n",
            "Epoch 4/100\n",
            "12/12 [==============================] - 0s 6ms/step - loss: 0.2703 - accuracy: 0.9685 - val_loss: 0.2868 - val_accuracy: 0.9362\n",
            "Epoch 5/100\n",
            "12/12 [==============================] - 0s 4ms/step - loss: 0.2519 - accuracy: 0.9685 - val_loss: 0.2703 - val_accuracy: 0.9362\n",
            "Epoch 6/100\n",
            "12/12 [==============================] - 0s 4ms/step - loss: 0.2369 - accuracy: 0.9685 - val_loss: 0.2560 - val_accuracy: 0.9415\n",
            "Epoch 7/100\n",
            "12/12 [==============================] - 0s 4ms/step - loss: 0.2236 - accuracy: 0.9685 - val_loss: 0.2442 - val_accuracy: 0.9468\n",
            "Epoch 8/100\n",
            "12/12 [==============================] - 0s 4ms/step - loss: 0.2121 - accuracy: 0.9685 - val_loss: 0.2340 - val_accuracy: 0.9521\n",
            "Epoch 9/100\n",
            "12/12 [==============================] - 0s 4ms/step - loss: 0.2020 - accuracy: 0.9685 - val_loss: 0.2248 - val_accuracy: 0.9521\n",
            "Epoch 10/100\n",
            "12/12 [==============================] - 0s 4ms/step - loss: 0.1930 - accuracy: 0.9711 - val_loss: 0.2169 - val_accuracy: 0.9574\n",
            "Epoch 11/100\n",
            "12/12 [==============================] - 0s 4ms/step - loss: 0.1850 - accuracy: 0.9711 - val_loss: 0.2097 - val_accuracy: 0.9574\n",
            "Epoch 12/100\n",
            "12/12 [==============================] - 0s 4ms/step - loss: 0.1777 - accuracy: 0.9711 - val_loss: 0.2034 - val_accuracy: 0.9574\n",
            "Epoch 13/100\n",
            "12/12 [==============================] - 0s 4ms/step - loss: 0.1717 - accuracy: 0.9711 - val_loss: 0.1982 - val_accuracy: 0.9574\n",
            "Epoch 14/100\n",
            "12/12 [==============================] - 0s 4ms/step - loss: 0.1651 - accuracy: 0.9738 - val_loss: 0.1929 - val_accuracy: 0.9574\n",
            "Epoch 15/100\n",
            "12/12 [==============================] - 0s 4ms/step - loss: 0.1597 - accuracy: 0.9738 - val_loss: 0.1881 - val_accuracy: 0.9574\n",
            "Epoch 16/100\n",
            "12/12 [==============================] - 0s 4ms/step - loss: 0.1547 - accuracy: 0.9764 - val_loss: 0.1836 - val_accuracy: 0.9574\n",
            "Epoch 17/100\n",
            "12/12 [==============================] - 0s 6ms/step - loss: 0.1500 - accuracy: 0.9764 - val_loss: 0.1797 - val_accuracy: 0.9574\n",
            "Epoch 18/100\n",
            "12/12 [==============================] - 0s 5ms/step - loss: 0.1459 - accuracy: 0.9764 - val_loss: 0.1764 - val_accuracy: 0.9574\n",
            "Epoch 19/100\n",
            "12/12 [==============================] - 0s 4ms/step - loss: 0.1417 - accuracy: 0.9764 - val_loss: 0.1728 - val_accuracy: 0.9574\n",
            "Epoch 20/100\n",
            "12/12 [==============================] - 0s 4ms/step - loss: 0.1380 - accuracy: 0.9764 - val_loss: 0.1697 - val_accuracy: 0.9574\n",
            "Epoch 21/100\n",
            "12/12 [==============================] - 0s 4ms/step - loss: 0.1346 - accuracy: 0.9790 - val_loss: 0.1666 - val_accuracy: 0.9574\n",
            "Epoch 22/100\n",
            "12/12 [==============================] - 0s 4ms/step - loss: 0.1312 - accuracy: 0.9790 - val_loss: 0.1641 - val_accuracy: 0.9574\n",
            "Epoch 23/100\n",
            "12/12 [==============================] - 0s 5ms/step - loss: 0.1283 - accuracy: 0.9790 - val_loss: 0.1615 - val_accuracy: 0.9574\n",
            "Epoch 24/100\n",
            "12/12 [==============================] - 0s 4ms/step - loss: 0.1254 - accuracy: 0.9790 - val_loss: 0.1592 - val_accuracy: 0.9574\n",
            "Epoch 25/100\n",
            "12/12 [==============================] - 0s 4ms/step - loss: 0.1227 - accuracy: 0.9790 - val_loss: 0.1569 - val_accuracy: 0.9574\n",
            "Epoch 26/100\n",
            "12/12 [==============================] - 0s 4ms/step - loss: 0.1202 - accuracy: 0.9790 - val_loss: 0.1547 - val_accuracy: 0.9574\n",
            "Epoch 27/100\n",
            "12/12 [==============================] - 0s 4ms/step - loss: 0.1180 - accuracy: 0.9790 - val_loss: 0.1527 - val_accuracy: 0.9574\n",
            "Epoch 28/100\n",
            "12/12 [==============================] - 0s 4ms/step - loss: 0.1156 - accuracy: 0.9816 - val_loss: 0.1508 - val_accuracy: 0.9574\n",
            "Epoch 29/100\n",
            "12/12 [==============================] - 0s 4ms/step - loss: 0.1135 - accuracy: 0.9816 - val_loss: 0.1490 - val_accuracy: 0.9574\n",
            "Epoch 30/100\n",
            "12/12 [==============================] - 0s 4ms/step - loss: 0.1115 - accuracy: 0.9816 - val_loss: 0.1470 - val_accuracy: 0.9574\n",
            "Epoch 31/100\n",
            "12/12 [==============================] - 0s 4ms/step - loss: 0.1096 - accuracy: 0.9816 - val_loss: 0.1455 - val_accuracy: 0.9574\n",
            "Epoch 32/100\n",
            "12/12 [==============================] - 0s 4ms/step - loss: 0.1078 - accuracy: 0.9816 - val_loss: 0.1441 - val_accuracy: 0.9574\n",
            "Epoch 33/100\n",
            "12/12 [==============================] - 0s 4ms/step - loss: 0.1061 - accuracy: 0.9816 - val_loss: 0.1425 - val_accuracy: 0.9574\n",
            "Epoch 34/100\n",
            "12/12 [==============================] - 0s 4ms/step - loss: 0.1045 - accuracy: 0.9816 - val_loss: 0.1412 - val_accuracy: 0.9574\n",
            "Epoch 35/100\n",
            "12/12 [==============================] - 0s 6ms/step - loss: 0.1029 - accuracy: 0.9816 - val_loss: 0.1399 - val_accuracy: 0.9628\n",
            "Epoch 36/100\n",
            "12/12 [==============================] - 0s 4ms/step - loss: 0.1014 - accuracy: 0.9816 - val_loss: 0.1386 - val_accuracy: 0.9628\n",
            "Epoch 37/100\n",
            "12/12 [==============================] - 0s 4ms/step - loss: 0.1000 - accuracy: 0.9816 - val_loss: 0.1374 - val_accuracy: 0.9628\n",
            "Epoch 38/100\n",
            "12/12 [==============================] - 0s 4ms/step - loss: 0.0986 - accuracy: 0.9816 - val_loss: 0.1361 - val_accuracy: 0.9628\n",
            "Epoch 39/100\n",
            "12/12 [==============================] - 0s 5ms/step - loss: 0.0974 - accuracy: 0.9816 - val_loss: 0.1348 - val_accuracy: 0.9628\n",
            "Epoch 40/100\n",
            "12/12 [==============================] - 0s 4ms/step - loss: 0.0961 - accuracy: 0.9816 - val_loss: 0.1339 - val_accuracy: 0.9628\n",
            "Epoch 41/100\n",
            "12/12 [==============================] - 0s 5ms/step - loss: 0.0950 - accuracy: 0.9816 - val_loss: 0.1328 - val_accuracy: 0.9628\n",
            "Epoch 42/100\n",
            "12/12 [==============================] - 0s 4ms/step - loss: 0.0938 - accuracy: 0.9816 - val_loss: 0.1319 - val_accuracy: 0.9628\n",
            "Epoch 43/100\n",
            "12/12 [==============================] - 0s 5ms/step - loss: 0.0927 - accuracy: 0.9816 - val_loss: 0.1309 - val_accuracy: 0.9628\n",
            "Epoch 44/100\n",
            "12/12 [==============================] - 0s 4ms/step - loss: 0.0916 - accuracy: 0.9816 - val_loss: 0.1299 - val_accuracy: 0.9628\n",
            "Epoch 45/100\n",
            "12/12 [==============================] - 0s 4ms/step - loss: 0.0906 - accuracy: 0.9816 - val_loss: 0.1290 - val_accuracy: 0.9628\n",
            "Epoch 46/100\n",
            "12/12 [==============================] - 0s 4ms/step - loss: 0.0896 - accuracy: 0.9816 - val_loss: 0.1281 - val_accuracy: 0.9628\n",
            "Epoch 47/100\n",
            "12/12 [==============================] - 0s 4ms/step - loss: 0.0887 - accuracy: 0.9816 - val_loss: 0.1272 - val_accuracy: 0.9628\n",
            "Epoch 48/100\n",
            "12/12 [==============================] - 0s 4ms/step - loss: 0.0878 - accuracy: 0.9816 - val_loss: 0.1264 - val_accuracy: 0.9628\n",
            "Epoch 49/100\n",
            "12/12 [==============================] - 0s 4ms/step - loss: 0.0869 - accuracy: 0.9816 - val_loss: 0.1257 - val_accuracy: 0.9628\n",
            "Epoch 50/100\n",
            "12/12 [==============================] - 0s 4ms/step - loss: 0.0860 - accuracy: 0.9816 - val_loss: 0.1250 - val_accuracy: 0.9628\n",
            "Epoch 51/100\n",
            "12/12 [==============================] - 0s 4ms/step - loss: 0.0852 - accuracy: 0.9816 - val_loss: 0.1242 - val_accuracy: 0.9628\n",
            "Epoch 52/100\n",
            "12/12 [==============================] - 0s 4ms/step - loss: 0.0844 - accuracy: 0.9816 - val_loss: 0.1235 - val_accuracy: 0.9628\n",
            "Epoch 53/100\n",
            "12/12 [==============================] - 0s 4ms/step - loss: 0.0836 - accuracy: 0.9816 - val_loss: 0.1229 - val_accuracy: 0.9628\n",
            "Epoch 54/100\n",
            "12/12 [==============================] - 0s 4ms/step - loss: 0.0829 - accuracy: 0.9816 - val_loss: 0.1222 - val_accuracy: 0.9628\n",
            "Epoch 55/100\n",
            "12/12 [==============================] - 0s 6ms/step - loss: 0.0822 - accuracy: 0.9816 - val_loss: 0.1215 - val_accuracy: 0.9628\n",
            "Epoch 56/100\n",
            "12/12 [==============================] - 0s 4ms/step - loss: 0.0815 - accuracy: 0.9816 - val_loss: 0.1208 - val_accuracy: 0.9628\n",
            "Epoch 57/100\n",
            "12/12 [==============================] - 0s 5ms/step - loss: 0.0808 - accuracy: 0.9816 - val_loss: 0.1202 - val_accuracy: 0.9628\n",
            "Epoch 58/100\n",
            "12/12 [==============================] - 0s 4ms/step - loss: 0.0801 - accuracy: 0.9816 - val_loss: 0.1197 - val_accuracy: 0.9628\n",
            "Epoch 59/100\n",
            "12/12 [==============================] - 0s 6ms/step - loss: 0.0795 - accuracy: 0.9816 - val_loss: 0.1191 - val_accuracy: 0.9628\n",
            "Epoch 60/100\n",
            "12/12 [==============================] - 0s 4ms/step - loss: 0.0789 - accuracy: 0.9816 - val_loss: 0.1185 - val_accuracy: 0.9628\n",
            "Epoch 61/100\n",
            "12/12 [==============================] - 0s 4ms/step - loss: 0.0783 - accuracy: 0.9816 - val_loss: 0.1179 - val_accuracy: 0.9628\n",
            "Epoch 62/100\n",
            "12/12 [==============================] - 0s 5ms/step - loss: 0.0777 - accuracy: 0.9843 - val_loss: 0.1175 - val_accuracy: 0.9628\n",
            "Epoch 63/100\n",
            "12/12 [==============================] - 0s 4ms/step - loss: 0.0771 - accuracy: 0.9843 - val_loss: 0.1169 - val_accuracy: 0.9628\n",
            "Epoch 64/100\n",
            "12/12 [==============================] - 0s 4ms/step - loss: 0.0765 - accuracy: 0.9843 - val_loss: 0.1165 - val_accuracy: 0.9628\n",
            "Epoch 65/100\n",
            "12/12 [==============================] - 0s 5ms/step - loss: 0.0760 - accuracy: 0.9843 - val_loss: 0.1160 - val_accuracy: 0.9628\n",
            "Epoch 66/100\n",
            "12/12 [==============================] - 0s 4ms/step - loss: 0.0755 - accuracy: 0.9843 - val_loss: 0.1155 - val_accuracy: 0.9628\n",
            "Epoch 67/100\n",
            "12/12 [==============================] - 0s 5ms/step - loss: 0.0749 - accuracy: 0.9843 - val_loss: 0.1150 - val_accuracy: 0.9628\n",
            "Epoch 68/100\n",
            "12/12 [==============================] - 0s 4ms/step - loss: 0.0744 - accuracy: 0.9843 - val_loss: 0.1146 - val_accuracy: 0.9628\n",
            "Epoch 69/100\n",
            "12/12 [==============================] - 0s 4ms/step - loss: 0.0739 - accuracy: 0.9843 - val_loss: 0.1142 - val_accuracy: 0.9628\n",
            "Epoch 70/100\n",
            "12/12 [==============================] - 0s 4ms/step - loss: 0.0735 - accuracy: 0.9843 - val_loss: 0.1137 - val_accuracy: 0.9628\n",
            "Epoch 71/100\n",
            "12/12 [==============================] - 0s 4ms/step - loss: 0.0730 - accuracy: 0.9843 - val_loss: 0.1133 - val_accuracy: 0.9628\n",
            "Epoch 72/100\n",
            "12/12 [==============================] - 0s 4ms/step - loss: 0.0725 - accuracy: 0.9843 - val_loss: 0.1128 - val_accuracy: 0.9628\n",
            "Epoch 73/100\n",
            "12/12 [==============================] - 0s 4ms/step - loss: 0.0721 - accuracy: 0.9843 - val_loss: 0.1125 - val_accuracy: 0.9628\n",
            "Epoch 74/100\n",
            "12/12 [==============================] - 0s 4ms/step - loss: 0.0716 - accuracy: 0.9843 - val_loss: 0.1121 - val_accuracy: 0.9628\n",
            "Epoch 75/100\n",
            "12/12 [==============================] - 0s 4ms/step - loss: 0.0712 - accuracy: 0.9843 - val_loss: 0.1117 - val_accuracy: 0.9628\n",
            "Epoch 76/100\n",
            "12/12 [==============================] - 0s 4ms/step - loss: 0.0708 - accuracy: 0.9843 - val_loss: 0.1115 - val_accuracy: 0.9628\n",
            "Epoch 77/100\n",
            "12/12 [==============================] - 0s 4ms/step - loss: 0.0704 - accuracy: 0.9843 - val_loss: 0.1111 - val_accuracy: 0.9628\n",
            "Epoch 78/100\n",
            "12/12 [==============================] - 0s 4ms/step - loss: 0.0700 - accuracy: 0.9843 - val_loss: 0.1107 - val_accuracy: 0.9628\n",
            "Epoch 79/100\n",
            "12/12 [==============================] - 0s 4ms/step - loss: 0.0696 - accuracy: 0.9843 - val_loss: 0.1103 - val_accuracy: 0.9628\n",
            "Epoch 80/100\n",
            "12/12 [==============================] - 0s 4ms/step - loss: 0.0692 - accuracy: 0.9843 - val_loss: 0.1101 - val_accuracy: 0.9628\n",
            "Epoch 81/100\n",
            "12/12 [==============================] - 0s 5ms/step - loss: 0.0688 - accuracy: 0.9843 - val_loss: 0.1098 - val_accuracy: 0.9628\n",
            "Epoch 82/100\n",
            "12/12 [==============================] - 0s 4ms/step - loss: 0.0684 - accuracy: 0.9843 - val_loss: 0.1094 - val_accuracy: 0.9628\n",
            "Epoch 83/100\n",
            "12/12 [==============================] - 0s 5ms/step - loss: 0.0681 - accuracy: 0.9843 - val_loss: 0.1090 - val_accuracy: 0.9628\n",
            "Epoch 84/100\n",
            "12/12 [==============================] - 0s 4ms/step - loss: 0.0677 - accuracy: 0.9843 - val_loss: 0.1088 - val_accuracy: 0.9628\n",
            "Epoch 85/100\n",
            "12/12 [==============================] - 0s 4ms/step - loss: 0.0674 - accuracy: 0.9843 - val_loss: 0.1084 - val_accuracy: 0.9681\n",
            "Epoch 86/100\n",
            "12/12 [==============================] - 0s 4ms/step - loss: 0.0670 - accuracy: 0.9843 - val_loss: 0.1082 - val_accuracy: 0.9681\n",
            "Epoch 87/100\n",
            "12/12 [==============================] - 0s 5ms/step - loss: 0.0667 - accuracy: 0.9843 - val_loss: 0.1078 - val_accuracy: 0.9681\n",
            "Epoch 88/100\n",
            "12/12 [==============================] - 0s 6ms/step - loss: 0.0664 - accuracy: 0.9869 - val_loss: 0.1076 - val_accuracy: 0.9681\n",
            "Epoch 89/100\n",
            "12/12 [==============================] - 0s 6ms/step - loss: 0.0661 - accuracy: 0.9869 - val_loss: 0.1073 - val_accuracy: 0.9681\n",
            "Epoch 90/100\n",
            "12/12 [==============================] - 0s 4ms/step - loss: 0.0657 - accuracy: 0.9869 - val_loss: 0.1071 - val_accuracy: 0.9681\n",
            "Epoch 91/100\n",
            "12/12 [==============================] - 0s 5ms/step - loss: 0.0654 - accuracy: 0.9869 - val_loss: 0.1068 - val_accuracy: 0.9681\n",
            "Epoch 92/100\n",
            "12/12 [==============================] - 0s 4ms/step - loss: 0.0651 - accuracy: 0.9869 - val_loss: 0.1066 - val_accuracy: 0.9681\n",
            "Epoch 93/100\n",
            "12/12 [==============================] - 0s 5ms/step - loss: 0.0648 - accuracy: 0.9869 - val_loss: 0.1063 - val_accuracy: 0.9681\n",
            "Epoch 94/100\n",
            "12/12 [==============================] - 0s 4ms/step - loss: 0.0645 - accuracy: 0.9869 - val_loss: 0.1060 - val_accuracy: 0.9681\n",
            "Epoch 95/100\n",
            "12/12 [==============================] - 0s 4ms/step - loss: 0.0642 - accuracy: 0.9869 - val_loss: 0.1057 - val_accuracy: 0.9681\n",
            "Epoch 96/100\n",
            "12/12 [==============================] - 0s 6ms/step - loss: 0.0640 - accuracy: 0.9869 - val_loss: 0.1056 - val_accuracy: 0.9681\n",
            "Epoch 97/100\n",
            "12/12 [==============================] - 0s 4ms/step - loss: 0.0636 - accuracy: 0.9869 - val_loss: 0.1053 - val_accuracy: 0.9681\n",
            "Epoch 98/100\n",
            "12/12 [==============================] - 0s 4ms/step - loss: 0.0634 - accuracy: 0.9869 - val_loss: 0.1051 - val_accuracy: 0.9681\n",
            "Epoch 99/100\n",
            "12/12 [==============================] - 0s 4ms/step - loss: 0.0631 - accuracy: 0.9869 - val_loss: 0.1048 - val_accuracy: 0.9681\n",
            "Epoch 100/100\n",
            "12/12 [==============================] - 0s 5ms/step - loss: 0.0629 - accuracy: 0.9869 - val_loss: 0.1047 - val_accuracy: 0.9681\n",
            "12/12 [==============================] - 0s 2ms/step - loss: 0.0627 - accuracy: 0.9869\n",
            "Train score: [0.06267446279525757, 0.9868766665458679]\n",
            "6/6 [==============================] - 0s 2ms/step - loss: 0.1047 - accuracy: 0.9681\n",
            "Test score: [0.10473677515983582, 0.9680851101875305]\n"
          ],
          "name": "stdout"
        }
      ]
    },
    {
      "cell_type": "code",
      "metadata": {
        "id": "W0fK5PQc8aJ_",
        "colab": {
          "base_uri": "https://localhost:8080/",
          "height": 282
        },
        "outputId": "321d5a9c-9f8c-423c-e6a7-30c7e1c06320"
      },
      "source": [
        "# Plot what's returned by model.fit()\n",
        "import matplotlib.pyplot as plt\n",
        "plt.plot(r.history['loss'], label='loss')\n",
        "plt.plot(r.history['val_loss'], label='val_loss')\n",
        "plt.legend()"
      ],
      "execution_count": 15,
      "outputs": [
        {
          "output_type": "execute_result",
          "data": {
            "text/plain": [
              "<matplotlib.legend.Legend at 0x7fdab81a7310>"
            ]
          },
          "metadata": {
            "tags": []
          },
          "execution_count": 15
        },
        {
          "output_type": "display_data",
          "data": {
            "image/png": "[encoded data removed]",
            "text/plain": [
              "<Figure size 432x288 with 1 Axes>"
            ]
          },
          "metadata": {
            "tags": [],
            "needs_background": "light"
          }
        }
      ]
    },
    {
      "cell_type": "code",
      "metadata": {
        "id": "VBAA2UY28vJN",
        "colab": {
          "base_uri": "https://localhost:8080/",
          "height": 282
        },
        "outputId": "4f493b2c-9ea9-4333-cd2f-4567fa624730"
      },
      "source": [
        "# Plot the accuracy too\n",
        "plt.plot(r.history['accuracy'], label='acc')\n",
        "plt.plot(r.history['val_accuracy'], label='val_acc')\n",
        "plt.legend()"
      ],
      "execution_count": 16,
      "outputs": [
        {
          "output_type": "execute_result",
          "data": {
            "text/plain": [
              "<matplotlib.legend.Legend at 0x7fdaf00a4c10>"
            ]
          },
          "metadata": {
            "tags": []
          },
          "execution_count": 16
        },
        {
          "output_type": "display_data",
          "data": {
            "image/png": "[encoded data removed]",
            "text/plain": [
              "<Figure size 432x288 with 1 Axes>"
            ]
          },
          "metadata": {
            "tags": [],
            "needs_background": "light"
          }
        }
      ]
    },
    {
      "cell_type": "markdown",
      "metadata": {
        "id": "GrZnHBI8NH-u"
      },
      "source": [
        "# Part 2: Making Predictions\n",
        "\n",
        "This goes with the lecture \"Making Predictions\""
      ]
    },
    {
      "cell_type": "code",
      "metadata": {
        "id": "Ss1LJwIVKREf",
        "colab": {
          "base_uri": "https://localhost:8080/"
        },
        "outputId": "7159e024-1599-4ca8-a80f-2a39c5a7cbd5"
      },
      "source": [
        "# Make predictions\n",
        "P = model.predict(X_test)\n",
        "print(P) # they are outputs of the sigmoid, interpreted as probabilities p(y = 1 | x)"
      ],
      "execution_count": null,
      "outputs": [
        {
          "output_type": "stream",
          "text": [
            "[[9.35080469e-01]\n",
            " [9.99298692e-01]\n",
            " [9.98439729e-01]\n",
            " [9.77653563e-01]\n",
            " [5.64797297e-02]\n",
            " [1.55710494e-02]\n",
            " [6.10508978e-01]\n",
            " [8.52784812e-01]\n",
            " [9.31189537e-01]\n",
            " [9.98825729e-01]\n",
            " [8.09484124e-01]\n",
            " [9.13891383e-03]\n",
            " [9.96914744e-01]\n",
            " [9.93904889e-01]\n",
            " [9.81451333e-01]\n",
            " [9.55752373e-01]\n",
            " [2.45447876e-03]\n",
            " [4.61153733e-03]\n",
            " [5.73845464e-04]\n",
            " [2.48237103e-02]\n",
            " [9.90265667e-01]\n",
            " [3.78944203e-02]\n",
            " [9.94276583e-01]\n",
            " [9.98708129e-01]\n",
            " [9.61843669e-01]\n",
            " [9.87939239e-01]\n",
            " [9.99808848e-01]\n",
            " [9.96969759e-01]\n",
            " [2.85914261e-02]\n",
            " [9.56589937e-01]\n",
            " [9.60226953e-01]\n",
            " [2.69837608e-03]\n",
            " [9.96669829e-01]\n",
            " [9.84309673e-01]\n",
            " [3.50100487e-01]\n",
            " [8.31614912e-01]\n",
            " [9.95373189e-01]\n",
            " [2.96407286e-03]\n",
            " [9.67374027e-01]\n",
            " [9.73011911e-01]\n",
            " [9.94610310e-01]\n",
            " [4.85418539e-04]\n",
            " [8.88491213e-01]\n",
            " [9.84727025e-01]\n",
            " [8.90673800e-06]\n",
            " [9.98509824e-01]\n",
            " [4.42464858e-01]\n",
            " [1.32060540e-03]\n",
            " [1.17375106e-01]\n",
            " [8.27795267e-01]\n",
            " [3.74988168e-01]\n",
            " [1.91124864e-02]\n",
            " [9.95917022e-01]\n",
            " [9.98196542e-01]\n",
            " [4.74949419e-01]\n",
            " [8.22081923e-01]\n",
            " [8.90725613e-01]\n",
            " [9.98178959e-01]\n",
            " [1.02176724e-04]\n",
            " [1.82664804e-02]\n",
            " [9.50180948e-01]\n",
            " [1.43383248e-02]\n",
            " [9.42624748e-01]\n",
            " [5.96681166e-05]\n",
            " [9.99727428e-01]\n",
            " [9.69099402e-01]\n",
            " [2.24412568e-02]\n",
            " [3.96199212e-05]\n",
            " [3.38991098e-02]\n",
            " [9.91276979e-01]\n",
            " [9.91171777e-01]\n",
            " [9.82203007e-01]\n",
            " [6.71500042e-02]\n",
            " [9.87396777e-01]\n",
            " [5.30279765e-04]\n",
            " [9.57228303e-01]\n",
            " [9.98355210e-01]\n",
            " [9.14368153e-01]\n",
            " [9.52866495e-01]\n",
            " [9.97870207e-01]\n",
            " [1.34615432e-02]\n",
            " [2.44203299e-01]\n",
            " [8.79299402e-01]\n",
            " [9.77223754e-01]\n",
            " [9.28715587e-01]\n",
            " [2.52999127e-01]\n",
            " [2.69606203e-01]\n",
            " [9.99876618e-01]\n",
            " [1.51222537e-03]\n",
            " [9.53690171e-01]\n",
            " [4.03010815e-01]\n",
            " [9.98407781e-01]\n",
            " [6.50674924e-02]\n",
            " [9.99741018e-01]\n",
            " [1.14408717e-01]\n",
            " [8.39701653e-01]\n",
            " [9.96540427e-01]\n",
            " [8.24299932e-01]\n",
            " [1.20999947e-01]\n",
            " [9.98341918e-01]\n",
            " [9.98978138e-01]\n",
            " [9.87704277e-01]\n",
            " [9.43565965e-01]\n",
            " [9.89912093e-01]\n",
            " [9.82849538e-01]\n",
            " [1.31196016e-03]\n",
            " [4.07409249e-03]\n",
            " [6.24320284e-03]\n",
            " [7.39843130e-01]\n",
            " [9.90274429e-01]\n",
            " [9.96425331e-01]\n",
            " [4.27843165e-03]\n",
            " [9.28301930e-01]\n",
            " [9.49783742e-01]\n",
            " [9.80192959e-01]\n",
            " [8.80274863e-04]\n",
            " [9.91823375e-01]\n",
            " [9.76207674e-01]\n",
            " [9.17195439e-01]\n",
            " [9.98508751e-01]\n",
            " [9.27063286e-01]\n",
            " [6.56274676e-01]\n",
            " [9.99204099e-01]\n",
            " [9.82241213e-01]\n",
            " [9.71006870e-01]\n",
            " [9.63477552e-01]\n",
            " [9.98024106e-01]\n",
            " [9.99295473e-01]\n",
            " [9.87832904e-01]\n",
            " [3.22171450e-02]\n",
            " [8.78069401e-01]\n",
            " [4.87438217e-02]\n",
            " [9.59760249e-01]\n",
            " [1.59445778e-01]\n",
            " [4.66189593e-01]\n",
            " [9.82630789e-01]\n",
            " [9.93440092e-01]\n",
            " [2.06552606e-04]\n",
            " [9.97168481e-01]\n",
            " [9.90759015e-01]\n",
            " [9.95073020e-01]\n",
            " [9.30102646e-01]\n",
            " [2.89134146e-03]\n",
            " [9.88580644e-01]\n",
            " [9.95565474e-01]\n",
            " [9.84212875e-01]\n",
            " [2.23457310e-02]\n",
            " [9.83895898e-01]\n",
            " [6.18342310e-04]\n",
            " [9.98992264e-01]\n",
            " [9.94715989e-01]\n",
            " [3.41228060e-02]\n",
            " [2.80370237e-04]\n",
            " [4.87311219e-04]\n",
            " [9.97160077e-01]\n",
            " [8.87251318e-01]\n",
            " [9.65952098e-01]\n",
            " [9.75660741e-01]\n",
            " [9.93650138e-01]\n",
            " [4.88551438e-01]\n",
            " [2.07821256e-03]\n",
            " [7.25426733e-01]\n",
            " [6.17845356e-03]\n",
            " [4.90195416e-05]\n",
            " [8.92993286e-02]\n",
            " [8.22957635e-01]\n",
            " [9.97866690e-01]\n",
            " [2.30895057e-02]\n",
            " [9.76001143e-01]\n",
            " [6.94513857e-01]\n",
            " [6.79192960e-01]\n",
            " [9.77537930e-01]\n",
            " [9.90081012e-01]\n",
            " [9.98470843e-01]\n",
            " [9.93132412e-01]\n",
            " [2.66570807e-03]\n",
            " [9.49018478e-01]\n",
            " [9.90014315e-01]\n",
            " [2.29099810e-01]\n",
            " [9.10406351e-01]\n",
            " [9.98505592e-01]\n",
            " [9.42158282e-01]\n",
            " [9.24770832e-01]\n",
            " [9.11253691e-01]\n",
            " [9.84513938e-01]\n",
            " [9.97072697e-01]\n",
            " [7.51034081e-01]\n",
            " [9.97907519e-01]]\n"
          ],
          "name": "stdout"
        }
      ]
    },
    {
      "cell_type": "code",
      "metadata": {
        "id": "Tv0cN7J6KoVu",
        "colab": {
          "base_uri": "https://localhost:8080/"
        },
        "outputId": "5daa533e-37dc-4738-b6ae-ed6f9620452d"
      },
      "source": [
        "# Round to get the actual predictions\n",
        "# Note: has to be flattened since the targets are size (N,) while the predictions are size (N,1)\n",
        "import numpy as np\n",
        "P = np.round(P).flatten()\n",
        "print(P)"
      ],
      "execution_count": null,
      "outputs": [
        {
          "output_type": "stream",
          "text": [
            "[1. 1. 1. 1. 0. 0. 1. 1. 1. 1. 1. 0. 1. 1. 1. 1. 0. 0. 0. 0. 1. 0. 1. 1.\n",
            " 1. 1. 1. 1. 0. 1. 1. 0. 1. 1. 0. 1. 1. 0. 1. 1. 1. 0. 1. 1. 0. 1. 0. 0.\n",
            " 0. 1. 0. 0. 1. 1. 0. 1. 1. 1. 0. 0. 1. 0. 1. 0. 1. 1. 0. 0. 0. 1. 1. 1.\n",
            " 0. 1. 0. 1. 1. 1. 1. 1. 0. 0. 1. 1. 1. 0. 0. 1. 0. 1. 0. 1. 0. 1. 0. 1.\n",
            " 1. 1. 0. 1. 1. 1. 1. 1. 1. 0. 0. 0. 1. 1. 1. 0. 1. 1. 1. 0. 1. 1. 1. 1.\n",
            " 1. 1. 1. 1. 1. 1. 1. 1. 1. 0. 1. 0. 1. 0. 0. 1. 1. 0. 1. 1. 1. 1. 0. 1.\n",
            " 1. 1. 0. 1. 0. 1. 1. 0. 0. 0. 1. 1. 1. 1. 1. 0. 0. 1. 0. 0. 0. 1. 1. 0.\n",
            " 1. 1. 1. 1. 1. 1. 1. 0. 1. 1. 0. 1. 1. 1. 1. 1. 1. 1. 1. 1.]\n"
          ],
          "name": "stdout"
        }
      ]
    },
    {
      "cell_type": "code",
      "metadata": {
        "id": "yJU09XkmK4nQ",
        "colab": {
          "base_uri": "https://localhost:8080/"
        },
        "outputId": "af457722-4d39-4913-81f4-f05a07f31ca0"
      },
      "source": [
        "# Calculate the accuracy, compare it to evaluate() output\n",
        "print(\"Manually calculated accuracy:\", np.mean(P == y_test))\n",
        "print(\"Evaluate output:\", model.evaluate(X_test, y_test))"
      ],
      "execution_count": null,
      "outputs": [
        {
          "output_type": "stream",
          "text": [
            "Manually calculated accuracy: 0.9840425531914894\n",
            "6/6 [==============================] - 0s 2ms/step - loss: 0.0853 - accuracy: 0.9840\n",
            "Evaluate output: [0.08529960364103317, 0.9840425252914429]\n"
          ],
          "name": "stdout"
        }
      ]
    },
    {
      "cell_type": "markdown",
      "metadata": {
        "id": "iogYs0uGNS4l"
      },
      "source": [
        "# Part 3: Saving and Loading a Model\n",
        "\n",
        "This goes with the lecture \"Saving and Loading a Model\""
      ]
    },
    {
      "cell_type": "code",
      "metadata": {
        "id": "L1uHxJ2SNXan"
      },
      "source": [
        "# Let's now save our model to a file\n",
        "model.save('linearclassifier.h5')"
      ],
      "execution_count": null,
      "outputs": []
    },
    {
      "cell_type": "code",
      "metadata": {
        "id": "F6PHmjb0OFBf",
        "colab": {
          "base_uri": "https://localhost:8080/"
        },
        "outputId": "50104d5a-1542-40a2-860b-2adb70b532e6"
      },
      "source": [
        "# Check that the model file exists\n",
        "!ls -lh "
      ],
      "execution_count": null,
      "outputs": [
        {
          "output_type": "stream",
          "text": [
            "total 24K\n",
            "-rw-r--r-- 1 root root  19K Jul 18 20:05 linearclassifier.h5\n",
            "drwxr-xr-x 1 root root 4.0K Jul 15 13:38 sample_data\n"
          ],
          "name": "stdout"
        }
      ]
    },
    {
      "cell_type": "code",
      "metadata": {
        "id": "FgFBrBveNoOR",
        "colab": {
          "base_uri": "https://localhost:8080/"
        },
        "outputId": "f105748a-1d66-4467-8eaf-95754f202eaa"
      },
      "source": [
        "# Let's load the model and confirm that it still works\n",
        "# Note: there is a bug in Keras where load/save only works if you DON'T use the Input() layer explicitly\n",
        "# So, make sure you define the model with ONLY Dense(1, input_shape=(D,))\n",
        "# At least, until the bug is fixed\n",
        "# https://github.com/keras-team/keras/issues/10417\n",
        "model = tf.keras.models.load_model('linearclassifier.h5')\n",
        "print(model.layers)\n",
        "model.evaluate(X_test, y_test)"
      ],
      "execution_count": null,
      "outputs": [
        {
          "output_type": "stream",
          "text": [
            "[<tensorflow.python.keras.layers.core.Dense object at 0x7f7570102f50>]\n",
            "6/6 [==============================] - 0s 2ms/step - loss: 0.0853 - accuracy: 0.9840\n"
          ],
          "name": "stdout"
        },
        {
          "output_type": "execute_result",
          "data": {
            "text/plain": [
              "[0.08529960364103317, 0.9840425252914429]"
            ]
          },
          "metadata": {
            "tags": []
          },
          "execution_count": 21
        }
      ]
    },
    {
      "cell_type": "code",
      "metadata": {
        "id": "_8rGQI-Rpo2T",
        "colab": {
          "base_uri": "https://localhost:8080/",
          "height": 17
        },
        "outputId": "8aad25a1-34ee-4005-b216-daabf0fec2eb"
      },
      "source": [
        "\n",
        "# Download the file - requires Chrome (at this point)\n",
        "from google.colab import files\n",
        "files.download('linearclassifier.h5')"
      ],
      "execution_count": null,
      "outputs": [
        {
          "output_type": "display_data",
          "data": {
            "application/javascript": [
              "\n",
              "    async function download(id, filename, size) {\n",
              "      if (!google.colab.kernel.accessAllowed) {\n",
              "        return;\n",
              "      }\n",
              "      const div = document.createElement('div');\n",
              "      const label = document.createElement('label');\n",
              "      label.textContent = `Downloading \"${filename}\": `;\n",
              "      div.appendChild(label);\n",
              "      const progress = document.createElement('progress');\n",
              "      progress.max = size;\n",
              "      div.appendChild(progress);\n",
              "      document.body.appendChild(div);\n",
              "\n",
              "      const buffers = [];\n",
              "      let downloaded = 0;\n",
              "\n",
              "      const channel = await google.colab.kernel.comms.open(id);\n",
              "      // Send a message to notify the kernel that we're ready.\n",
              "      channel.send({})\n",
              "\n",
              "      for await (const message of channel.messages) {\n",
              "        // Send a message to notify the kernel that we're ready.\n",
              "        channel.send({})\n",
              "        if (message.buffers) {\n",
              "          for (const buffer of message.buffers) {\n",
              "            buffers.push(buffer);\n",
              "            downloaded += buffer.byteLength;\n",
              "            progress.value = downloaded;\n",
              "          }\n",
              "        }\n",
              "      }\n",
              "      const blob = new Blob(buffers, {type: 'application/binary'});\n",
              "      const a = document.createElement('a');\n",
              "      a.href = window.URL.createObjectURL(blob);\n",
              "      a.download = filename;\n",
              "      div.appendChild(a);\n",
              "      a.click();\n",
              "      div.remove();\n",
              "    }\n",
              "  "
            ],
            "text/plain": [
              "<IPython.core.display.Javascript object>"
            ]
          },
          "metadata": {
            "tags": []
          }
        },
        {
          "output_type": "display_data",
          "data": {
            "application/javascript": [
              "download(\"download_58226c4b-e8cd-43f6-80dc-5a9e233ea747\", \"linearclassifier.h5\", 18480)"
            ],
            "text/plain": [
              "<IPython.core.display.Javascript object>"
            ]
          },
          "metadata": {
            "tags": []
          }
        }
      ]
    }
  ]
}